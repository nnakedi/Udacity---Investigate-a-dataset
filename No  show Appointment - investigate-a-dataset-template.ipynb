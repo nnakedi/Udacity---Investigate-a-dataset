{
 "cells": [
  {
   "cell_type": "markdown",
   "metadata": {
    "pycharm": {
     "name": "#%% md\n"
    }
   },
   "source": [
    "\n",
    "\n",
    "# Project: Investigate a Dataset\n",
    "#### Which factors drive the 'No Show' appointments\n",
    "\n",
    "Author: Neo Nakedi\n",
    "\n",
    "## Table of Contents\n",
    "<ul>\n",
    "<li><a href=\"#intro\">Introduction</a></li>\n",
    "<li><a href=\"#wrangling\">Data Wrangling</a></li>\n",
    "<li><a href=\"#eda\">Exploratory Data Analysis</a></li>\n",
    "<li><a href=\"#conclusions\">Conclusions</a></li>\n",
    "</ul>"
   ]
  },
  {
   "cell_type": "markdown",
   "metadata": {
    "pycharm": {
     "name": "#%% md\n"
    }
   },
   "source": [
    "<a id='intro'></a>\n",
    "## Introduction\n",
    "\n",
    "#### Dataset:\n",
    "> This dataset collects information from 100,000 medical appointments in Brazil and is focused on whether patients show up for their appointment.\n",
    ">\n",
    "#### Objective of investigation:\n",
    "> Identify variables in the data set that have positive correlation to a patient not showing up for an appointment. If we can predict if a patient will honour their appointment, perhaps interventions can be put in place to reduce the likelihood of a no -how.\n",
    ">\n",
    "#### Details of Dataset:\n",
    "- **PatientId** - *Unique patient ID*\n",
    "- **AppointmentID** - *Unique appointment ID*\n",
    "- **Gender** - *Male(M) | Female(F). Categorical*\n",
    "- **ScheduledDay** - *Date/time when appointment is set up*\n",
    "- **AppointmentDay** - *Date of appointment*\n",
    "- **Age** - *Age of patient*\n",
    "- **Neighbourhood** - *Neighbourhood of healthcare facility*\n",
    "- **Scholarship** - *Indicates whether patient is enrolled in Brazilian welfare program*\n",
    "- **Hipertension** - *Hypertension status in Binary - 1 (True/Yes) 0(False/No)*\n",
    "- **Diabetes** - *Diabetes status in Binary - 1 (True/Yes) 0 False/No)*\n",
    "- **Alcoholism** - *Alcoholism status in Binary - 1 (True/Yes) 0 False/No)*\n",
    "- **Handcap** - *Handicap status in Binary - 1 (True/Yes) 0 (False/No)*\n",
    "- **SMS_received** - *SMS received in Binary - 1 (True/Yes) 0 (False/No)*\n",
    "- **No-show** - *No show (Yes/No)*\n"
   ]
  },
  {
   "cell_type": "code",
   "execution_count": 300,
   "metadata": {
    "collapsed": true,
    "jupyter": {
     "outputs_hidden": true
    },
    "pycharm": {
     "name": "#%%\n"
    }
   },
   "outputs": [],
   "source": [
    "# Import Python libraries that will be used in this analysis\n",
    "import pandas as pd\n",
    "import matplotlib.pyplot as plt\n",
    "\n",
    "pd.options.display.float_format = '{:.2f}'.format #Supress scientific notation and use 2 decimals\n",
    "%matplotlib inline\n"
   ]
  },
  {
   "cell_type": "markdown",
   "metadata": {
    "pycharm": {
     "name": "#%% md\n"
    }
   },
   "source": [
    "<a id='wrangling'></a>\n",
    "## Data Wrangling\n",
    "\n",
    "\n",
    "### Data imports"
   ]
  },
  {
   "cell_type": "code",
   "execution_count": 301,
   "metadata": {
    "collapsed": true,
    "jupyter": {
     "outputs_hidden": true
    },
    "pycharm": {
     "name": "#%%\n"
    }
   },
   "outputs": [
    {
     "data": {
      "text/plain": "(110527, 14)"
     },
     "execution_count": 301,
     "metadata": {},
     "output_type": "execute_result"
    }
   ],
   "source": [
    "#Import data in csv format\n",
    "df= pd.read_csv('noshowappointments-kagglev2-may-2016.csv')\n",
    "df.shape #Shape of the dataframe"
   ]
  },
  {
   "cell_type": "code",
   "execution_count": 302,
   "metadata": {
    "collapsed": false,
    "jupyter": {
     "outputs_hidden": false
    },
    "pycharm": {
     "name": "#%%\n"
    }
   },
   "outputs": [
    {
     "data": {
      "text/plain": "           PatientId  AppointmentID Gender          ScheduledDay  \\\n0  29872499824296.00        5642903      F  2016-04-29T18:38:08Z   \n1 558997776694438.00        5642503      M  2016-04-29T16:08:27Z   \n2   4262962299951.00        5642549      F  2016-04-29T16:19:04Z   \n3    867951213174.00        5642828      F  2016-04-29T17:29:31Z   \n4   8841186448183.00        5642494      F  2016-04-29T16:07:23Z   \n\n         AppointmentDay  Age      Neighbourhood  Scholarship  Hipertension  \\\n0  2016-04-29T00:00:00Z   62    JARDIM DA PENHA            0             1   \n1  2016-04-29T00:00:00Z   56    JARDIM DA PENHA            0             0   \n2  2016-04-29T00:00:00Z   62      MATA DA PRAIA            0             0   \n3  2016-04-29T00:00:00Z    8  PONTAL DE CAMBURI            0             0   \n4  2016-04-29T00:00:00Z   56    JARDIM DA PENHA            0             1   \n\n   Diabetes  Alcoholism  Handcap  SMS_received No-show  \n0         0           0        0             0      No  \n1         0           0        0             0      No  \n2         0           0        0             0      No  \n3         0           0        0             0      No  \n4         1           0        0             0      No  ",
      "text/html": "<div>\n<style scoped>\n    .dataframe tbody tr th:only-of-type {\n        vertical-align: middle;\n    }\n\n    .dataframe tbody tr th {\n        vertical-align: top;\n    }\n\n    .dataframe thead th {\n        text-align: right;\n    }\n</style>\n<table border=\"1\" class=\"dataframe\">\n  <thead>\n    <tr style=\"text-align: right;\">\n      <th></th>\n      <th>PatientId</th>\n      <th>AppointmentID</th>\n      <th>Gender</th>\n      <th>ScheduledDay</th>\n      <th>AppointmentDay</th>\n      <th>Age</th>\n      <th>Neighbourhood</th>\n      <th>Scholarship</th>\n      <th>Hipertension</th>\n      <th>Diabetes</th>\n      <th>Alcoholism</th>\n      <th>Handcap</th>\n      <th>SMS_received</th>\n      <th>No-show</th>\n    </tr>\n  </thead>\n  <tbody>\n    <tr>\n      <th>0</th>\n      <td>29872499824296.00</td>\n      <td>5642903</td>\n      <td>F</td>\n      <td>2016-04-29T18:38:08Z</td>\n      <td>2016-04-29T00:00:00Z</td>\n      <td>62</td>\n      <td>JARDIM DA PENHA</td>\n      <td>0</td>\n      <td>1</td>\n      <td>0</td>\n      <td>0</td>\n      <td>0</td>\n      <td>0</td>\n      <td>No</td>\n    </tr>\n    <tr>\n      <th>1</th>\n      <td>558997776694438.00</td>\n      <td>5642503</td>\n      <td>M</td>\n      <td>2016-04-29T16:08:27Z</td>\n      <td>2016-04-29T00:00:00Z</td>\n      <td>56</td>\n      <td>JARDIM DA PENHA</td>\n      <td>0</td>\n      <td>0</td>\n      <td>0</td>\n      <td>0</td>\n      <td>0</td>\n      <td>0</td>\n      <td>No</td>\n    </tr>\n    <tr>\n      <th>2</th>\n      <td>4262962299951.00</td>\n      <td>5642549</td>\n      <td>F</td>\n      <td>2016-04-29T16:19:04Z</td>\n      <td>2016-04-29T00:00:00Z</td>\n      <td>62</td>\n      <td>MATA DA PRAIA</td>\n      <td>0</td>\n      <td>0</td>\n      <td>0</td>\n      <td>0</td>\n      <td>0</td>\n      <td>0</td>\n      <td>No</td>\n    </tr>\n    <tr>\n      <th>3</th>\n      <td>867951213174.00</td>\n      <td>5642828</td>\n      <td>F</td>\n      <td>2016-04-29T17:29:31Z</td>\n      <td>2016-04-29T00:00:00Z</td>\n      <td>8</td>\n      <td>PONTAL DE CAMBURI</td>\n      <td>0</td>\n      <td>0</td>\n      <td>0</td>\n      <td>0</td>\n      <td>0</td>\n      <td>0</td>\n      <td>No</td>\n    </tr>\n    <tr>\n      <th>4</th>\n      <td>8841186448183.00</td>\n      <td>5642494</td>\n      <td>F</td>\n      <td>2016-04-29T16:07:23Z</td>\n      <td>2016-04-29T00:00:00Z</td>\n      <td>56</td>\n      <td>JARDIM DA PENHA</td>\n      <td>0</td>\n      <td>1</td>\n      <td>1</td>\n      <td>0</td>\n      <td>0</td>\n      <td>0</td>\n      <td>No</td>\n    </tr>\n  </tbody>\n</table>\n</div>"
     },
     "execution_count": 302,
     "metadata": {},
     "output_type": "execute_result"
    }
   ],
   "source": [
    "#View top 5 records to ensure data is imported correctly\n",
    "df.head()"
   ]
  },
  {
   "cell_type": "code",
   "execution_count": 303,
   "metadata": {
    "collapsed": false,
    "jupyter": {
     "outputs_hidden": false
    },
    "pycharm": {
     "name": "#%%\n"
    }
   },
   "outputs": [
    {
     "name": "stdout",
     "output_type": "stream",
     "text": [
      "<class 'pandas.core.frame.DataFrame'>\n",
      "RangeIndex: 110527 entries, 0 to 110526\n",
      "Data columns (total 14 columns):\n",
      " #   Column          Non-Null Count   Dtype  \n",
      "---  ------          --------------   -----  \n",
      " 0   PatientId       110527 non-null  float64\n",
      " 1   AppointmentID   110527 non-null  int64  \n",
      " 2   Gender          110527 non-null  object \n",
      " 3   ScheduledDay    110527 non-null  object \n",
      " 4   AppointmentDay  110527 non-null  object \n",
      " 5   Age             110527 non-null  int64  \n",
      " 6   Neighbourhood   110527 non-null  object \n",
      " 7   Scholarship     110527 non-null  int64  \n",
      " 8   Hipertension    110527 non-null  int64  \n",
      " 9   Diabetes        110527 non-null  int64  \n",
      " 10  Alcoholism      110527 non-null  int64  \n",
      " 11  Handcap         110527 non-null  int64  \n",
      " 12  SMS_received    110527 non-null  int64  \n",
      " 13  No-show         110527 non-null  object \n",
      "dtypes: float64(1), int64(8), object(5)\n",
      "memory usage: 11.8+ MB\n"
     ]
    }
   ],
   "source": [
    "#View columns, record counts and datatypes\n",
    "df.info()"
   ]
  },
  {
   "cell_type": "code",
   "execution_count": 304,
   "outputs": [
    {
     "data": {
      "text/plain": "               PatientId  AppointmentID       Age  Scholarship  Hipertension  \\\ncount          110527.00      110527.00 110527.00    110527.00     110527.00   \nmean  147496265710392.38     5675305.12     37.09         0.10          0.20   \nstd   256094920291738.88       71295.75     23.11         0.30          0.40   \nmin             39217.84     5030230.00     -1.00         0.00          0.00   \n25%     4172614444192.00     5640285.50     18.00         0.00          0.00   \n50%    31731838713978.00     5680573.00     37.00         0.00          0.00   \n75%    94391720898175.00     5725523.50     55.00         0.00          0.00   \nmax   999981631772427.00     5790484.00    115.00         1.00          1.00   \n\n       Diabetes  Alcoholism   Handcap  SMS_received  \ncount 110527.00   110527.00 110527.00     110527.00  \nmean       0.07        0.03      0.02          0.32  \nstd        0.26        0.17      0.16          0.47  \nmin        0.00        0.00      0.00          0.00  \n25%        0.00        0.00      0.00          0.00  \n50%        0.00        0.00      0.00          0.00  \n75%        0.00        0.00      0.00          1.00  \nmax        1.00        1.00      4.00          1.00  ",
      "text/html": "<div>\n<style scoped>\n    .dataframe tbody tr th:only-of-type {\n        vertical-align: middle;\n    }\n\n    .dataframe tbody tr th {\n        vertical-align: top;\n    }\n\n    .dataframe thead th {\n        text-align: right;\n    }\n</style>\n<table border=\"1\" class=\"dataframe\">\n  <thead>\n    <tr style=\"text-align: right;\">\n      <th></th>\n      <th>PatientId</th>\n      <th>AppointmentID</th>\n      <th>Age</th>\n      <th>Scholarship</th>\n      <th>Hipertension</th>\n      <th>Diabetes</th>\n      <th>Alcoholism</th>\n      <th>Handcap</th>\n      <th>SMS_received</th>\n    </tr>\n  </thead>\n  <tbody>\n    <tr>\n      <th>count</th>\n      <td>110527.00</td>\n      <td>110527.00</td>\n      <td>110527.00</td>\n      <td>110527.00</td>\n      <td>110527.00</td>\n      <td>110527.00</td>\n      <td>110527.00</td>\n      <td>110527.00</td>\n      <td>110527.00</td>\n    </tr>\n    <tr>\n      <th>mean</th>\n      <td>147496265710392.38</td>\n      <td>5675305.12</td>\n      <td>37.09</td>\n      <td>0.10</td>\n      <td>0.20</td>\n      <td>0.07</td>\n      <td>0.03</td>\n      <td>0.02</td>\n      <td>0.32</td>\n    </tr>\n    <tr>\n      <th>std</th>\n      <td>256094920291738.88</td>\n      <td>71295.75</td>\n      <td>23.11</td>\n      <td>0.30</td>\n      <td>0.40</td>\n      <td>0.26</td>\n      <td>0.17</td>\n      <td>0.16</td>\n      <td>0.47</td>\n    </tr>\n    <tr>\n      <th>min</th>\n      <td>39217.84</td>\n      <td>5030230.00</td>\n      <td>-1.00</td>\n      <td>0.00</td>\n      <td>0.00</td>\n      <td>0.00</td>\n      <td>0.00</td>\n      <td>0.00</td>\n      <td>0.00</td>\n    </tr>\n    <tr>\n      <th>25%</th>\n      <td>4172614444192.00</td>\n      <td>5640285.50</td>\n      <td>18.00</td>\n      <td>0.00</td>\n      <td>0.00</td>\n      <td>0.00</td>\n      <td>0.00</td>\n      <td>0.00</td>\n      <td>0.00</td>\n    </tr>\n    <tr>\n      <th>50%</th>\n      <td>31731838713978.00</td>\n      <td>5680573.00</td>\n      <td>37.00</td>\n      <td>0.00</td>\n      <td>0.00</td>\n      <td>0.00</td>\n      <td>0.00</td>\n      <td>0.00</td>\n      <td>0.00</td>\n    </tr>\n    <tr>\n      <th>75%</th>\n      <td>94391720898175.00</td>\n      <td>5725523.50</td>\n      <td>55.00</td>\n      <td>0.00</td>\n      <td>0.00</td>\n      <td>0.00</td>\n      <td>0.00</td>\n      <td>0.00</td>\n      <td>1.00</td>\n    </tr>\n    <tr>\n      <th>max</th>\n      <td>999981631772427.00</td>\n      <td>5790484.00</td>\n      <td>115.00</td>\n      <td>1.00</td>\n      <td>1.00</td>\n      <td>1.00</td>\n      <td>1.00</td>\n      <td>4.00</td>\n      <td>1.00</td>\n    </tr>\n  </tbody>\n</table>\n</div>"
     },
     "execution_count": 304,
     "metadata": {},
     "output_type": "execute_result"
    }
   ],
   "source": [
    "#Assess field statistics\n",
    "df.describe()"
   ],
   "metadata": {
    "collapsed": false,
    "pycharm": {
     "name": "#%%\n"
    }
   }
  },
  {
   "cell_type": "markdown",
   "metadata": {
    "pycharm": {
     "name": "#%% md\n"
    }
   },
   "source": [
    "### Data Cleaning\n",
    "**df: Observations**\n",
    "- **Missing Value** - Dataset appears to have no missing values\n",
    "\n",
    "- **PatientID & AppointmentID** - These fields should be 'Objects(string)' instead of numerics for better presentation (supress sci-notation)\n",
    "\n",
    "- **Date fields (ScheduleDay & AppointmentDay)** - Should be converted to date datatype and then create a Day of the week\n",
    "\n",
    "- **Age - Ages should be grouped into categories** - (Children (0-18), Young Adults(19-30), Adults(31-59) & Elders (60+))\n",
    "                                                     The minimum age is -1 which is not possible\n",
    "\n",
    "- **Spelling errors** - Correct spelling errors identified\n",
    "\n",
    "- **Appointment date** - Does not have time and all appoints are set to midnight (00:00)- No way to add correct time\n",
    "                        - We also look at the number of days between schedule and appointment date\n"
   ]
  },
  {
   "cell_type": "markdown",
   "metadata": {
    "pycharm": {
     "name": "#%% md\n"
    }
   },
   "source": [
    "**PatientID & AppointmentID - These fields should be ‘Objects(string)’ instead of numerics as best practise**"
   ]
  },
  {
   "cell_type": "code",
   "execution_count": 305,
   "metadata": {
    "collapsed": false,
    "jupyter": {
     "outputs_hidden": false
    },
    "pycharm": {
     "name": "#%%\n"
    }
   },
   "outputs": [],
   "source": [
    "#Patient ID is a unique identifier, therefore it should be a string\n",
    "df['PatientId'] = df['PatientId'].apply(int).apply(str) #covert to int first to get rid of decimals\n",
    "df['AppointmentID'] = df['AppointmentID'].apply(str)"
   ]
  },
  {
   "cell_type": "markdown",
   "metadata": {
    "pycharm": {
     "name": "#%% md\n"
    }
   },
   "source": [
    "**Date fields (ScheduleDay & AppointmentDay) - Should be converted to date datatype**"
   ]
  },
  {
   "cell_type": "code",
   "execution_count": 306,
   "metadata": {
    "collapsed": false,
    "jupyter": {
     "outputs_hidden": false
    },
    "pycharm": {
     "name": "#%%\n"
    }
   },
   "outputs": [],
   "source": [
    "#Change field to datetime format\n",
    "df['ScheduledDay'] = pd.to_datetime(df['ScheduledDay'], format='%Y-%m-%d')\n",
    "df['AppointmentDay'] = pd.to_datetime(df['AppointmentDay'], format='%Y-%m-%d')\n",
    "\n",
    "#Add a column to determine day of the week\n",
    "df['AppointmentDay_of_week']=df['AppointmentDay'].dt.day_name()\n",
    "\n",
    "#Calculate the number of days been ScheduleDay and AppointmentDay\n",
    "df['days_to'] = (df['AppointmentDay'] - df['ScheduledDay']).dt.days"
   ]
  },
  {
   "cell_type": "code",
   "execution_count": 307,
   "outputs": [
    {
     "data": {
      "text/plain": "               ScheduledDay            AppointmentDay AppointmentDay_of_week  \\\n0 2016-04-29 18:38:08+00:00 2016-04-29 00:00:00+00:00                 Friday   \n1 2016-04-29 16:08:27+00:00 2016-04-29 00:00:00+00:00                 Friday   \n\n   days_to  \n0       -1  \n1       -1  ",
      "text/html": "<div>\n<style scoped>\n    .dataframe tbody tr th:only-of-type {\n        vertical-align: middle;\n    }\n\n    .dataframe tbody tr th {\n        vertical-align: top;\n    }\n\n    .dataframe thead th {\n        text-align: right;\n    }\n</style>\n<table border=\"1\" class=\"dataframe\">\n  <thead>\n    <tr style=\"text-align: right;\">\n      <th></th>\n      <th>ScheduledDay</th>\n      <th>AppointmentDay</th>\n      <th>AppointmentDay_of_week</th>\n      <th>days_to</th>\n    </tr>\n  </thead>\n  <tbody>\n    <tr>\n      <th>0</th>\n      <td>2016-04-29 18:38:08+00:00</td>\n      <td>2016-04-29 00:00:00+00:00</td>\n      <td>Friday</td>\n      <td>-1</td>\n    </tr>\n    <tr>\n      <th>1</th>\n      <td>2016-04-29 16:08:27+00:00</td>\n      <td>2016-04-29 00:00:00+00:00</td>\n      <td>Friday</td>\n      <td>-1</td>\n    </tr>\n  </tbody>\n</table>\n</div>"
     },
     "execution_count": 307,
     "metadata": {},
     "output_type": "execute_result"
    }
   ],
   "source": [
    "#Check the datetime conversion and day of week\n",
    "df.loc[:,['ScheduledDay','AppointmentDay','AppointmentDay_of_week','days_to']].head(2)"
   ],
   "metadata": {
    "collapsed": false,
    "pycharm": {
     "name": "#%%\n"
    }
   }
  },
  {
   "cell_type": "markdown",
   "metadata": {
    "pycharm": {
     "name": "#%% md\n"
    }
   },
   "source": [
    "**Age - Ages should be grouped into categories - (Children (0-18), Young Adults(19-30), Adults(31-59) & Elders (60+))**"
   ]
  },
  {
   "cell_type": "code",
   "execution_count": 308,
   "metadata": {
    "collapsed": false,
    "jupyter": {
     "outputs_hidden": false
    },
    "pycharm": {
     "name": "#%%\n"
    }
   },
   "outputs": [
    {
     "name": "stdout",
     "output_type": "stream",
     "text": [
      "Age Min:  -1\n",
      "Age Max:  115\n",
      "Age (blanks):  0\n"
     ]
    }
   ],
   "source": [
    "#check Min, Max and blank ages to see if there are any possible outliers and to plan categories\n",
    "print('Age Min: ',df['Age'].min())\n",
    "print('Age Max: ',df['Age'].max())\n",
    "print('Age (blanks): ',df['Age'].isnull().sum())"
   ]
  },
  {
   "cell_type": "markdown",
   "source": [
    "It appears that we have some outliers. No person has a negative age."
   ],
   "metadata": {
    "collapsed": false,
    "pycharm": {
     "name": "#%% md\n"
    }
   }
  },
  {
   "cell_type": "code",
   "execution_count": 309,
   "outputs": [],
   "source": [
    "#Subset data to remove negative ages, by taking ages that are equal or greater than 0\n",
    "df=df[df['Age']>=0]"
   ],
   "metadata": {
    "collapsed": false,
    "pycharm": {
     "name": "#%%\n"
    }
   }
  },
  {
   "cell_type": "code",
   "execution_count": 310,
   "metadata": {
    "collapsed": false,
    "jupyter": {
     "outputs_hidden": false
    },
    "pycharm": {
     "name": "#%%\n"
    }
   },
   "outputs": [],
   "source": [
    "# Categories were decided based on this dataset. Could not find a conclusive age grouping that was consistent from wellknown sources such as the UN, WHO etc\n",
    "groups = [0,19,31,60,150]\n",
    "categories = ['Child','Young Adults','Adults','Elders']\n",
    "df['Age_group'] = pd.cut(df['Age'], bins=groups, labels=categories, right=False)"
   ]
  },
  {
   "cell_type": "code",
   "execution_count": 311,
   "outputs": [
    {
     "data": {
      "text/plain": "<Figure size 432x288 with 1 Axes>",
      "image/png": "[encoded data removed]"
     },
     "metadata": {
      "needs_background": "light"
     },
     "output_type": "display_data"
    }
   ],
   "source": [
    "#Check Age distribution using box plot\n",
    "df.boxplot(column='Age', by= 'No-show');"
   ],
   "metadata": {
    "collapsed": false,
    "pycharm": {
     "name": "#%%\n"
    }
   }
  },
  {
   "cell_type": "markdown",
   "source": [
    "  **Spelling errors** - Correct spelling errors identified"
   ],
   "metadata": {
    "collapsed": false,
    "pycharm": {
     "name": "#%% md\n"
    }
   }
  },
  {
   "cell_type": "code",
   "execution_count": 312,
   "outputs": [],
   "source": [
    "#Rename the typo fields\n",
    "df.rename(columns = {'Hipertension':'Hypertension', 'Handcap' : 'Handicap' }, inplace = True)"
   ],
   "metadata": {
    "collapsed": false,
    "pycharm": {
     "name": "#%%\n"
    }
   }
  },
  {
   "cell_type": "markdown",
   "metadata": {
    "pycharm": {
     "name": "#%% md\n"
    }
   },
   "source": [
    "**Check if the data is clean**"
   ]
  },
  {
   "cell_type": "code",
   "execution_count": 313,
   "metadata": {
    "collapsed": false,
    "jupyter": {
     "outputs_hidden": false
    },
    "pycharm": {
     "name": "#%%\n"
    }
   },
   "outputs": [
    {
     "data": {
      "text/plain": "         PatientId AppointmentID Gender              ScheduledDay  \\\n0   29872499824296       5642903      F 2016-04-29 18:38:08+00:00   \n1  558997776694438       5642503      M 2016-04-29 16:08:27+00:00   \n2    4262962299951       5642549      F 2016-04-29 16:19:04+00:00   \n3     867951213174       5642828      F 2016-04-29 17:29:31+00:00   \n4    8841186448183       5642494      F 2016-04-29 16:07:23+00:00   \n\n             AppointmentDay  Age      Neighbourhood  Scholarship  \\\n0 2016-04-29 00:00:00+00:00   62    JARDIM DA PENHA            0   \n1 2016-04-29 00:00:00+00:00   56    JARDIM DA PENHA            0   \n2 2016-04-29 00:00:00+00:00   62      MATA DA PRAIA            0   \n3 2016-04-29 00:00:00+00:00    8  PONTAL DE CAMBURI            0   \n4 2016-04-29 00:00:00+00:00   56    JARDIM DA PENHA            0   \n\n   Hypertension  Diabetes  Alcoholism  Handicap  SMS_received No-show  \\\n0             1         0           0         0             0      No   \n1             0         0           0         0             0      No   \n2             0         0           0         0             0      No   \n3             0         0           0         0             0      No   \n4             1         1           0         0             0      No   \n\n  AppointmentDay_of_week  days_to Age_group  \n0                 Friday       -1    Elders  \n1                 Friday       -1    Adults  \n2                 Friday       -1    Elders  \n3                 Friday       -1     Child  \n4                 Friday       -1    Adults  ",
      "text/html": "<div>\n<style scoped>\n    .dataframe tbody tr th:only-of-type {\n        vertical-align: middle;\n    }\n\n    .dataframe tbody tr th {\n        vertical-align: top;\n    }\n\n    .dataframe thead th {\n        text-align: right;\n    }\n</style>\n<table border=\"1\" class=\"dataframe\">\n  <thead>\n    <tr style=\"text-align: right;\">\n      <th></th>\n      <th>PatientId</th>\n      <th>AppointmentID</th>\n      <th>Gender</th>\n      <th>ScheduledDay</th>\n      <th>AppointmentDay</th>\n      <th>Age</th>\n      <th>Neighbourhood</th>\n      <th>Scholarship</th>\n      <th>Hypertension</th>\n      <th>Diabetes</th>\n      <th>Alcoholism</th>\n      <th>Handicap</th>\n      <th>SMS_received</th>\n      <th>No-show</th>\n      <th>AppointmentDay_of_week</th>\n      <th>days_to</th>\n      <th>Age_group</th>\n    </tr>\n  </thead>\n  <tbody>\n    <tr>\n      <th>0</th>\n      <td>29872499824296</td>\n      <td>5642903</td>\n      <td>F</td>\n      <td>2016-04-29 18:38:08+00:00</td>\n      <td>2016-04-29 00:00:00+00:00</td>\n      <td>62</td>\n      <td>JARDIM DA PENHA</td>\n      <td>0</td>\n      <td>1</td>\n      <td>0</td>\n      <td>0</td>\n      <td>0</td>\n      <td>0</td>\n      <td>No</td>\n      <td>Friday</td>\n      <td>-1</td>\n      <td>Elders</td>\n    </tr>\n    <tr>\n      <th>1</th>\n      <td>558997776694438</td>\n      <td>5642503</td>\n      <td>M</td>\n      <td>2016-04-29 16:08:27+00:00</td>\n      <td>2016-04-29 00:00:00+00:00</td>\n      <td>56</td>\n      <td>JARDIM DA PENHA</td>\n      <td>0</td>\n      <td>0</td>\n      <td>0</td>\n      <td>0</td>\n      <td>0</td>\n      <td>0</td>\n      <td>No</td>\n      <td>Friday</td>\n      <td>-1</td>\n      <td>Adults</td>\n    </tr>\n    <tr>\n      <th>2</th>\n      <td>4262962299951</td>\n      <td>5642549</td>\n      <td>F</td>\n      <td>2016-04-29 16:19:04+00:00</td>\n      <td>2016-04-29 00:00:00+00:00</td>\n      <td>62</td>\n      <td>MATA DA PRAIA</td>\n      <td>0</td>\n      <td>0</td>\n      <td>0</td>\n      <td>0</td>\n      <td>0</td>\n      <td>0</td>\n      <td>No</td>\n      <td>Friday</td>\n      <td>-1</td>\n      <td>Elders</td>\n    </tr>\n    <tr>\n      <th>3</th>\n      <td>867951213174</td>\n      <td>5642828</td>\n      <td>F</td>\n      <td>2016-04-29 17:29:31+00:00</td>\n      <td>2016-04-29 00:00:00+00:00</td>\n      <td>8</td>\n      <td>PONTAL DE CAMBURI</td>\n      <td>0</td>\n      <td>0</td>\n      <td>0</td>\n      <td>0</td>\n      <td>0</td>\n      <td>0</td>\n      <td>No</td>\n      <td>Friday</td>\n      <td>-1</td>\n      <td>Child</td>\n    </tr>\n    <tr>\n      <th>4</th>\n      <td>8841186448183</td>\n      <td>5642494</td>\n      <td>F</td>\n      <td>2016-04-29 16:07:23+00:00</td>\n      <td>2016-04-29 00:00:00+00:00</td>\n      <td>56</td>\n      <td>JARDIM DA PENHA</td>\n      <td>0</td>\n      <td>1</td>\n      <td>1</td>\n      <td>0</td>\n      <td>0</td>\n      <td>0</td>\n      <td>No</td>\n      <td>Friday</td>\n      <td>-1</td>\n      <td>Adults</td>\n    </tr>\n  </tbody>\n</table>\n</div>"
     },
     "execution_count": 313,
     "metadata": {},
     "output_type": "execute_result"
    }
   ],
   "source": [
    "df.head()"
   ]
  },
  {
   "cell_type": "code",
   "execution_count": 314,
   "outputs": [
    {
     "name": "stdout",
     "output_type": "stream",
     "text": [
      "<class 'pandas.core.frame.DataFrame'>\n",
      "Int64Index: 110526 entries, 0 to 110526\n",
      "Data columns (total 17 columns):\n",
      " #   Column                  Non-Null Count   Dtype              \n",
      "---  ------                  --------------   -----              \n",
      " 0   PatientId               110526 non-null  object             \n",
      " 1   AppointmentID           110526 non-null  object             \n",
      " 2   Gender                  110526 non-null  object             \n",
      " 3   ScheduledDay            110526 non-null  datetime64[ns, UTC]\n",
      " 4   AppointmentDay          110526 non-null  datetime64[ns, UTC]\n",
      " 5   Age                     110526 non-null  int64              \n",
      " 6   Neighbourhood           110526 non-null  object             \n",
      " 7   Scholarship             110526 non-null  int64              \n",
      " 8   Hypertension            110526 non-null  int64              \n",
      " 9   Diabetes                110526 non-null  int64              \n",
      " 10  Alcoholism              110526 non-null  int64              \n",
      " 11  Handicap                110526 non-null  int64              \n",
      " 12  SMS_received            110526 non-null  int64              \n",
      " 13  No-show                 110526 non-null  object             \n",
      " 14  AppointmentDay_of_week  110526 non-null  object             \n",
      " 15  days_to                 110526 non-null  int64              \n",
      " 16  Age_group               110526 non-null  category           \n",
      "dtypes: category(1), datetime64[ns, UTC](2), int64(8), object(6)\n",
      "memory usage: 14.4+ MB\n"
     ]
    }
   ],
   "source": [
    "df.info()"
   ],
   "metadata": {
    "collapsed": false,
    "pycharm": {
     "name": "#%%\n"
    }
   }
  },
  {
   "cell_type": "code",
   "execution_count": 314,
   "outputs": [],
   "source": [],
   "metadata": {
    "collapsed": false,
    "pycharm": {
     "name": "#%%\n"
    }
   }
  },
  {
   "cell_type": "markdown",
   "source": [
    "<a id='eda'></a>\n",
    "## Exploratory Data Analysis\n"
   ],
   "metadata": {
    "collapsed": false,
    "pycharm": {
     "name": "#%% md\n"
    }
   }
  },
  {
   "cell_type": "markdown",
   "source": [
    "**Define functions to avoid repetition**"
   ],
   "metadata": {
    "collapsed": false,
    "pycharm": {
     "name": "#%% md\n"
    }
   }
  },
  {
   "cell_type": "code",
   "execution_count": 315,
   "outputs": [],
   "source": [
    "#Ratio plot\n",
    "def ratio(dataframe,group,values,):\n",
    "    x=pd.DataFrame(dataframe.groupby(group)[values].count().sort_values(ascending=False).reset_index())\n",
    "    x['ratio']=x.iloc[:,-1]/x.iloc[:,-1].sum()\n",
    "    return x"
   ],
   "metadata": {
    "collapsed": false,
    "pycharm": {
     "name": "#%%\n"
    }
   }
  },
  {
   "cell_type": "markdown",
   "source": [
    "**Review field statistics**"
   ],
   "metadata": {
    "collapsed": false,
    "pycharm": {
     "name": "#%% md\n"
    }
   }
  },
  {
   "cell_type": "code",
   "execution_count": 316,
   "outputs": [
    {
     "data": {
      "text/plain": "            Age  Scholarship  Hypertension  Diabetes  Alcoholism  Handicap  \\\ncount 110526.00    110526.00     110526.00 110526.00   110526.00 110526.00   \nmean      37.09         0.10          0.20      0.07        0.03      0.02   \nstd       23.11         0.30          0.40      0.26        0.17      0.16   \nmin        0.00         0.00          0.00      0.00        0.00      0.00   \n25%       18.00         0.00          0.00      0.00        0.00      0.00   \n50%       37.00         0.00          0.00      0.00        0.00      0.00   \n75%       55.00         0.00          0.00      0.00        0.00      0.00   \nmax      115.00         1.00          1.00      1.00        1.00      4.00   \n\n       SMS_received   days_to  \ncount     110526.00 110526.00  \nmean           0.32      9.18  \nstd            0.47     15.26  \nmin            0.00     -7.00  \n25%            0.00     -1.00  \n50%            0.00      3.00  \n75%            1.00     14.00  \nmax            1.00    178.00  ",
      "text/html": "<div>\n<style scoped>\n    .dataframe tbody tr th:only-of-type {\n        vertical-align: middle;\n    }\n\n    .dataframe tbody tr th {\n        vertical-align: top;\n    }\n\n    .dataframe thead th {\n        text-align: right;\n    }\n</style>\n<table border=\"1\" class=\"dataframe\">\n  <thead>\n    <tr style=\"text-align: right;\">\n      <th></th>\n      <th>Age</th>\n      <th>Scholarship</th>\n      <th>Hypertension</th>\n      <th>Diabetes</th>\n      <th>Alcoholism</th>\n      <th>Handicap</th>\n      <th>SMS_received</th>\n      <th>days_to</th>\n    </tr>\n  </thead>\n  <tbody>\n    <tr>\n      <th>count</th>\n      <td>110526.00</td>\n      <td>110526.00</td>\n      <td>110526.00</td>\n      <td>110526.00</td>\n      <td>110526.00</td>\n      <td>110526.00</td>\n      <td>110526.00</td>\n      <td>110526.00</td>\n    </tr>\n    <tr>\n      <th>mean</th>\n      <td>37.09</td>\n      <td>0.10</td>\n      <td>0.20</td>\n      <td>0.07</td>\n      <td>0.03</td>\n      <td>0.02</td>\n      <td>0.32</td>\n      <td>9.18</td>\n    </tr>\n    <tr>\n      <th>std</th>\n      <td>23.11</td>\n      <td>0.30</td>\n      <td>0.40</td>\n      <td>0.26</td>\n      <td>0.17</td>\n      <td>0.16</td>\n      <td>0.47</td>\n      <td>15.26</td>\n    </tr>\n    <tr>\n      <th>min</th>\n      <td>0.00</td>\n      <td>0.00</td>\n      <td>0.00</td>\n      <td>0.00</td>\n      <td>0.00</td>\n      <td>0.00</td>\n      <td>0.00</td>\n      <td>-7.00</td>\n    </tr>\n    <tr>\n      <th>25%</th>\n      <td>18.00</td>\n      <td>0.00</td>\n      <td>0.00</td>\n      <td>0.00</td>\n      <td>0.00</td>\n      <td>0.00</td>\n      <td>0.00</td>\n      <td>-1.00</td>\n    </tr>\n    <tr>\n      <th>50%</th>\n      <td>37.00</td>\n      <td>0.00</td>\n      <td>0.00</td>\n      <td>0.00</td>\n      <td>0.00</td>\n      <td>0.00</td>\n      <td>0.00</td>\n      <td>3.00</td>\n    </tr>\n    <tr>\n      <th>75%</th>\n      <td>55.00</td>\n      <td>0.00</td>\n      <td>0.00</td>\n      <td>0.00</td>\n      <td>0.00</td>\n      <td>0.00</td>\n      <td>1.00</td>\n      <td>14.00</td>\n    </tr>\n    <tr>\n      <th>max</th>\n      <td>115.00</td>\n      <td>1.00</td>\n      <td>1.00</td>\n      <td>1.00</td>\n      <td>1.00</td>\n      <td>4.00</td>\n      <td>1.00</td>\n      <td>178.00</td>\n    </tr>\n  </tbody>\n</table>\n</div>"
     },
     "execution_count": 316,
     "metadata": {},
     "output_type": "execute_result"
    }
   ],
   "source": [
    "df.describe()"
   ],
   "metadata": {
    "collapsed": false,
    "pycharm": {
     "name": "#%%\n"
    }
   }
  },
  {
   "cell_type": "markdown",
   "source": [
    "**Histogram Matrix Overview**"
   ],
   "metadata": {
    "collapsed": false,
    "pycharm": {
     "name": "#%% md\n"
    }
   }
  },
  {
   "cell_type": "code",
   "execution_count": 317,
   "outputs": [
    {
     "data": {
      "text/plain": "<Figure size 1296x864 with 12 Axes>",
      "image/png": "[encoded data removed]"
     },
     "metadata": {
      "needs_background": "light"
     },
     "output_type": "display_data"
    }
   ],
   "source": [
    "#Histogram Matrix to plot all numeric data for a whole view\n",
    "df.hist(figsize=(18,12));"
   ],
   "metadata": {
    "collapsed": false,
    "pycharm": {
     "name": "#%%\n"
    }
   }
  },
  {
   "cell_type": "markdown",
   "source": [
    "**Observations:**\n",
    ">**Age**: Most of the patients appear to be below the age of 60, with the average being 37.09. Children appear to be dominant in the dataset\n",
    "\n",
    ">**Handicap**: Handicap has a max of 4, this means there are different categories of Handicap but the data does not provide more details\n",
    "\n",
    "> **Days_to**: The average number of days between Schedule and Appointment date is 9 days. There are some instances where the schedule date\n",
    "is after the appointment date, which could indicate some human error in capturing. The min is -7, when we were expecting positive values\n",
    "It is also surprising to see that some appointments were schedule almost 6 months in advance. The max is 178 days\n",
    "\n",
    "> **Alcoholism**: This remains very low and probably has little impact on no-shows\n",
    "\n",
    "> **Diabetes & Hypertension**: These two factors appear to have little significance as a few people have the conditions\n"
   ],
   "metadata": {
    "collapsed": false,
    "pycharm": {
     "name": "#%% md\n"
    }
   }
  },
  {
   "cell_type": "code",
   "execution_count": 318,
   "outputs": [
    {
     "data": {
      "text/plain": "      Age_group No-show  AppointmentID  ratio\n0        Adults      No          35135   0.32\n1         Child      No          22519   0.20\n2        Elders      No          17931   0.16\n3  Young Adults      No          12622   0.11\n4        Adults     Yes           8587   0.08\n5         Child     Yes           6347   0.06\n6  Young Adults     Yes           4143   0.04\n7        Elders     Yes           3242   0.03",
      "text/html": "<div>\n<style scoped>\n    .dataframe tbody tr th:only-of-type {\n        vertical-align: middle;\n    }\n\n    .dataframe tbody tr th {\n        vertical-align: top;\n    }\n\n    .dataframe thead th {\n        text-align: right;\n    }\n</style>\n<table border=\"1\" class=\"dataframe\">\n  <thead>\n    <tr style=\"text-align: right;\">\n      <th></th>\n      <th>Age_group</th>\n      <th>No-show</th>\n      <th>AppointmentID</th>\n      <th>ratio</th>\n    </tr>\n  </thead>\n  <tbody>\n    <tr>\n      <th>0</th>\n      <td>Adults</td>\n      <td>No</td>\n      <td>35135</td>\n      <td>0.32</td>\n    </tr>\n    <tr>\n      <th>1</th>\n      <td>Child</td>\n      <td>No</td>\n      <td>22519</td>\n      <td>0.20</td>\n    </tr>\n    <tr>\n      <th>2</th>\n      <td>Elders</td>\n      <td>No</td>\n      <td>17931</td>\n      <td>0.16</td>\n    </tr>\n    <tr>\n      <th>3</th>\n      <td>Young Adults</td>\n      <td>No</td>\n      <td>12622</td>\n      <td>0.11</td>\n    </tr>\n    <tr>\n      <th>4</th>\n      <td>Adults</td>\n      <td>Yes</td>\n      <td>8587</td>\n      <td>0.08</td>\n    </tr>\n    <tr>\n      <th>5</th>\n      <td>Child</td>\n      <td>Yes</td>\n      <td>6347</td>\n      <td>0.06</td>\n    </tr>\n    <tr>\n      <th>6</th>\n      <td>Young Adults</td>\n      <td>Yes</td>\n      <td>4143</td>\n      <td>0.04</td>\n    </tr>\n    <tr>\n      <th>7</th>\n      <td>Elders</td>\n      <td>Yes</td>\n      <td>3242</td>\n      <td>0.03</td>\n    </tr>\n  </tbody>\n</table>\n</div>"
     },
     "execution_count": 318,
     "metadata": {},
     "output_type": "execute_result"
    }
   ],
   "source": [
    "ratio(df,['Age_group','No-show'],'AppointmentID')"
   ],
   "metadata": {
    "collapsed": false,
    "pycharm": {
     "name": "#%%\n"
    }
   }
  },
  {
   "cell_type": "markdown",
   "source": [],
   "metadata": {
    "collapsed": false,
    "pycharm": {
     "name": "#%% md\n"
    }
   }
  },
  {
   "cell_type": "markdown",
   "source": [],
   "metadata": {
    "collapsed": false,
    "pycharm": {
     "name": "#%% md\n"
    }
   }
  },
  {
   "cell_type": "code",
   "execution_count": 319,
   "outputs": [
    {
     "name": "stdout",
     "output_type": "stream",
     "text": [
      "Percentage of No-show:  20.19%\n",
      "Percentage of Show-up:  79.81%\n"
     ]
    }
   ],
   "source": [
    "print('Percentage of No-show: ', \"%.2f%%\" % (df[df['No-show']==\"Yes\"].count().loc['No-show']/df['AppointmentID'].count()*100))\n",
    "print('Percentage of Show-up: ', \"%.2f%%\" % (df[df['No-show']==\"No\"].count().loc['No-show']/df['AppointmentID'].count()*100))"
   ],
   "metadata": {
    "collapsed": false,
    "pycharm": {
     "name": "#%%\n"
    }
   }
  },
  {
   "cell_type": "markdown",
   "source": [
    "Approximately 80% of patients show up for their appointment"
   ],
   "metadata": {
    "collapsed": false,
    "pycharm": {
     "name": "#%% md\n"
    }
   }
  },
  {
   "cell_type": "code",
   "execution_count": 320,
   "outputs": [
    {
     "name": "stdout",
     "output_type": "stream",
     "text": [
      "Percentage of patients with Hypertension:  19.72%\n",
      "Percentage of patients with NO Hypertension:  80.28%\n"
     ]
    }
   ],
   "source": [
    "print('Percentage of patients with Hypertension: ', \"%.2f%%\" % (df[df['Hypertension']==1].count().loc['No-show']/df['PatientId'].count()*100))\n",
    "print('Percentage of patients with NO Hypertension: ', \"%.2f%%\" % (df[df['Hypertension']==0].count().loc['No-show']/df['PatientId'].count()*100))"
   ],
   "metadata": {
    "collapsed": false,
    "pycharm": {
     "name": "#%%\n"
    }
   }
  },
  {
   "cell_type": "markdown",
   "source": [],
   "metadata": {
    "collapsed": false,
    "pycharm": {
     "name": "#%% md\n"
    }
   }
  },
  {
   "cell_type": "markdown",
   "metadata": {
    "pycharm": {
     "name": "#%% md\n"
    }
   },
   "source": [
    "### Research Question 1 : Which Age Group and Gender has the biggest no shows?\n",
    "> Does age have an impact on no-shows?"
   ]
  },
  {
   "cell_type": "code",
   "execution_count": 321,
   "outputs": [
    {
     "data": {
      "text/plain": "<Figure size 504x504 with 1 Axes>",
      "image/png": "[encoded data removed]"
     },
     "metadata": {},
     "output_type": "display_data"
    }
   ],
   "source": [
    "#Pie chart plot showing the age distribution\n",
    "df.groupby(['Age_group','No-show'])['No-show'].count().plot(kind=\"pie\", figsize=(7,7),autopct='%1.0f%%',label=' No-show by Age groups');"
   ],
   "metadata": {
    "collapsed": false,
    "pycharm": {
     "name": "#%%\n"
    }
   }
  },
  {
   "cell_type": "markdown",
   "source": [
    "It appears that Adults contribute to the largest number of no shows, followed by children."
   ],
   "metadata": {
    "collapsed": false,
    "pycharm": {
     "name": "#%% md\n"
    }
   }
  },
  {
   "cell_type": "code",
   "execution_count": 322,
   "outputs": [
    {
     "data": {
      "text/plain": "<Figure size 432x288 with 1 Axes>",
      "image/png": "[encoded data removed]"
     },
     "metadata": {
      "needs_background": "light"
     },
     "output_type": "display_data"
    }
   ],
   "source": [
    "#Using the ratio function created earlier, lets look at ratio's (probabilities)\n",
    "df_age_groups= ratio(df,['Age_group','No-show'],'AppointmentID')\n",
    "df_age_groups.plot(kind='bar',x='Age_group', y='ratio', title='Probability of no show by Age Group', color='r', ylabel='ratio');"
   ],
   "metadata": {
    "collapsed": false,
    "pycharm": {
     "name": "#%%\n"
    }
   }
  },
  {
   "cell_type": "markdown",
   "source": [
    "- The Adult and Child age group constitute 64% of the data set\n",
    "\n",
    "- Child & Adult age group are dominant in the dataset, it is therefore expected that this age group will have a higher ratio"
   ],
   "metadata": {
    "collapsed": false,
    "pycharm": {
     "name": "#%% md\n"
    }
   }
  },
  {
   "cell_type": "code",
   "execution_count": 323,
   "outputs": [
    {
     "data": {
      "text/plain": "  Gender No-show  PatientId  ratio\n0      F      No      57245   0.52\n1      M      No      30962   0.28\n2      F     Yes      14594   0.13\n3      M     Yes       7725   0.07",
      "text/html": "<div>\n<style scoped>\n    .dataframe tbody tr th:only-of-type {\n        vertical-align: middle;\n    }\n\n    .dataframe tbody tr th {\n        vertical-align: top;\n    }\n\n    .dataframe thead th {\n        text-align: right;\n    }\n</style>\n<table border=\"1\" class=\"dataframe\">\n  <thead>\n    <tr style=\"text-align: right;\">\n      <th></th>\n      <th>Gender</th>\n      <th>No-show</th>\n      <th>PatientId</th>\n      <th>ratio</th>\n    </tr>\n  </thead>\n  <tbody>\n    <tr>\n      <th>0</th>\n      <td>F</td>\n      <td>No</td>\n      <td>57245</td>\n      <td>0.52</td>\n    </tr>\n    <tr>\n      <th>1</th>\n      <td>M</td>\n      <td>No</td>\n      <td>30962</td>\n      <td>0.28</td>\n    </tr>\n    <tr>\n      <th>2</th>\n      <td>F</td>\n      <td>Yes</td>\n      <td>14594</td>\n      <td>0.13</td>\n    </tr>\n    <tr>\n      <th>3</th>\n      <td>M</td>\n      <td>Yes</td>\n      <td>7725</td>\n      <td>0.07</td>\n    </tr>\n  </tbody>\n</table>\n</div>"
     },
     "execution_count": 323,
     "metadata": {},
     "output_type": "execute_result"
    }
   ],
   "source": [
    "ratio(df,['Gender','No-show'],'PatientId')"
   ],
   "metadata": {
    "collapsed": false,
    "pycharm": {
     "name": "#%%\n"
    }
   }
  },
  {
   "cell_type": "code",
   "execution_count": 324,
   "outputs": [
    {
     "data": {
      "text/plain": "<Figure size 432x288 with 1 Axes>",
      "image/png": "[encoded data removed]"
     },
     "metadata": {
      "needs_background": "light"
     },
     "output_type": "display_data"
    }
   ],
   "source": [
    "df.groupby(['Gender', 'No-show'])['PatientId'].count().unstack('No-show')\\\n",
    "    .plot( kind='bar', stacked=True, color=['g','r'],title='Distribution by Gender (stacked)',ylabel='count');"
   ],
   "metadata": {
    "collapsed": false,
    "pycharm": {
     "name": "#%%\n"
    }
   }
  },
  {
   "cell_type": "markdown",
   "source": [
    "**Gender**\n",
    "\n",
    "> Females contribute 13% of no-shows vs 7% for male from all appointments"
   ],
   "metadata": {
    "collapsed": false,
    "pycharm": {
     "name": "#%% md\n"
    }
   }
  },
  {
   "cell_type": "markdown",
   "metadata": {
    "pycharm": {
     "name": "#%% md\n"
    }
   },
   "source": [
    "### Research Question 2  - On which day of the week are people mostly likely to not show up?"
   ]
  },
  {
   "cell_type": "code",
   "execution_count": 325,
   "outputs": [],
   "source": [
    "#Create an index to sort the days of the week in order\n",
    "df_dayOrder = pd.DataFrame({\n",
    "    'AppointmentDay_of_week': ['Monday', 'Tuesday', 'Wednesday', 'Thursday', 'Friday', 'Saturday', 'Sunday'],\n",
    "    'order': [0, 1, 2, 3, 4, 5, 6]})\n",
    "df = pd.merge(df, df_dayOrder, on='AppointmentDay_of_week')\n",
    "df = df.sort_values('order')"
   ],
   "metadata": {
    "collapsed": false,
    "pycharm": {
     "name": "#%%\n"
    }
   }
  },
  {
   "cell_type": "code",
   "execution_count": 326,
   "metadata": {
    "collapsed": true,
    "jupyter": {
     "outputs_hidden": true
    },
    "pycharm": {
     "name": "#%%\n"
    }
   },
   "outputs": [
    {
     "data": {
      "text/plain": "   AppointmentDay_of_week No-show  AppointmentID  ratio\n0               Wednesday      No          20774   0.19\n1                 Tuesday      No          20488   0.19\n2                  Monday      No          18024   0.16\n3                  Friday      No          14982   0.14\n4                Thursday      No          13909   0.13\n5                 Tuesday     Yes           5152   0.05\n6               Wednesday     Yes           5093   0.05\n7                  Monday     Yes           4690   0.04\n8                  Friday     Yes           4037   0.04\n9                Thursday     Yes           3338   0.03\n10               Saturday      No             30   0.00\n11               Saturday     Yes              9   0.00",
      "text/html": "<div>\n<style scoped>\n    .dataframe tbody tr th:only-of-type {\n        vertical-align: middle;\n    }\n\n    .dataframe tbody tr th {\n        vertical-align: top;\n    }\n\n    .dataframe thead th {\n        text-align: right;\n    }\n</style>\n<table border=\"1\" class=\"dataframe\">\n  <thead>\n    <tr style=\"text-align: right;\">\n      <th></th>\n      <th>AppointmentDay_of_week</th>\n      <th>No-show</th>\n      <th>AppointmentID</th>\n      <th>ratio</th>\n    </tr>\n  </thead>\n  <tbody>\n    <tr>\n      <th>0</th>\n      <td>Wednesday</td>\n      <td>No</td>\n      <td>20774</td>\n      <td>0.19</td>\n    </tr>\n    <tr>\n      <th>1</th>\n      <td>Tuesday</td>\n      <td>No</td>\n      <td>20488</td>\n      <td>0.19</td>\n    </tr>\n    <tr>\n      <th>2</th>\n      <td>Monday</td>\n      <td>No</td>\n      <td>18024</td>\n      <td>0.16</td>\n    </tr>\n    <tr>\n      <th>3</th>\n      <td>Friday</td>\n      <td>No</td>\n      <td>14982</td>\n      <td>0.14</td>\n    </tr>\n    <tr>\n      <th>4</th>\n      <td>Thursday</td>\n      <td>No</td>\n      <td>13909</td>\n      <td>0.13</td>\n    </tr>\n    <tr>\n      <th>5</th>\n      <td>Tuesday</td>\n      <td>Yes</td>\n      <td>5152</td>\n      <td>0.05</td>\n    </tr>\n    <tr>\n      <th>6</th>\n      <td>Wednesday</td>\n      <td>Yes</td>\n      <td>5093</td>\n      <td>0.05</td>\n    </tr>\n    <tr>\n      <th>7</th>\n      <td>Monday</td>\n      <td>Yes</td>\n      <td>4690</td>\n      <td>0.04</td>\n    </tr>\n    <tr>\n      <th>8</th>\n      <td>Friday</td>\n      <td>Yes</td>\n      <td>4037</td>\n      <td>0.04</td>\n    </tr>\n    <tr>\n      <th>9</th>\n      <td>Thursday</td>\n      <td>Yes</td>\n      <td>3338</td>\n      <td>0.03</td>\n    </tr>\n    <tr>\n      <th>10</th>\n      <td>Saturday</td>\n      <td>No</td>\n      <td>30</td>\n      <td>0.00</td>\n    </tr>\n    <tr>\n      <th>11</th>\n      <td>Saturday</td>\n      <td>Yes</td>\n      <td>9</td>\n      <td>0.00</td>\n    </tr>\n  </tbody>\n</table>\n</div>"
     },
     "execution_count": 326,
     "metadata": {},
     "output_type": "execute_result"
    }
   ],
   "source": [
    "#Using function created above, explore ratios\n",
    "ratio(df,['AppointmentDay_of_week','No-show'],'AppointmentID')"
   ]
  },
  {
   "cell_type": "code",
   "execution_count": 327,
   "outputs": [
    {
     "data": {
      "text/plain": "<Figure size 432x288 with 1 Axes>",
      "image/png": "[encoded data removed]"
     },
     "metadata": {
      "needs_background": "light"
     },
     "output_type": "display_data"
    }
   ],
   "source": [
    "#bar plot of days distributions\n",
    "df.groupby(['AppointmentDay_of_week', 'No-show'],sort=False)['AppointmentID'].count().unstack('No-show')\\\n",
    "    .plot( kind='bar', stacked=True, color=['g','r'], title='Distribution by day of week',ylabel='count');"
   ],
   "metadata": {
    "collapsed": false,
    "pycharm": {
     "name": "#%%\n"
    }
   }
  },
  {
   "cell_type": "markdown",
   "source": [
    "**Day of week:**\n",
    "- Tuesday & Wednesday appears to have the biggest number of no-show in proportion to other days of the week\n",
    "- These two days also have the highest counts"
   ],
   "metadata": {
    "collapsed": false,
    "pycharm": {
     "name": "#%% md\n"
    }
   }
  },
  {
   "cell_type": "markdown",
   "source": [
    "### Research Question 3  - Which other factors influence no-shows?"
   ],
   "metadata": {
    "collapsed": false,
    "pycharm": {
     "name": "#%% md\n"
    }
   }
  },
  {
   "cell_type": "code",
   "execution_count": 328,
   "outputs": [
    {
     "data": {
      "text/plain": "<Figure size 1296x576 with 6 Axes>",
      "image/png": "[encoded data removed]"
     },
     "metadata": {
      "needs_background": "light"
     },
     "output_type": "display_data"
    }
   ],
   "source": [
    "#Create a sub-plot matrix of other factors\n",
    "factors = ['Hypertension', 'Diabetes', 'Alcoholism', 'Handicap', 'SMS_received', 'Scholarship']\n",
    "\n",
    "fig = plt.figure(figsize=(18, 8))\n",
    "for i, factors in enumerate(factors):\n",
    "    ax = fig.add_subplot(2, 3, i+1)\n",
    "    df.groupby([factors, 'No-show'])[factors].count().unstack('No-show').plot(ax=ax, kind='bar', stacked=True, color=['g','r'])"
   ],
   "metadata": {
    "collapsed": false,
    "pycharm": {
     "name": "#%%\n"
    }
   }
  },
  {
   "cell_type": "code",
   "execution_count": 329,
   "outputs": [
    {
     "name": "stdout",
     "output_type": "stream",
     "text": [
      "Hypertension  No-show\n",
      "0             No         70178\n",
      "              Yes        18547\n",
      "1             No         18029\n",
      "              Yes         3772\n",
      "Name: Hypertension, dtype: int64\n",
      "Diabetes  No-show\n",
      "0         No         81694\n",
      "          Yes        20889\n",
      "1         No          6513\n",
      "          Yes         1430\n",
      "Name: Diabetes, dtype: int64\n",
      "Alcoholism  No-show\n",
      "0           No         85524\n",
      "            Yes        21642\n",
      "1           No          2683\n",
      "            Yes          677\n",
      "Name: Alcoholism, dtype: int64\n",
      "Handicap  No-show\n",
      "0         No         86373\n",
      "          Yes        21912\n",
      "1         No          1676\n",
      "          Yes          366\n",
      "2         No           146\n",
      "          Yes           37\n",
      "3         No            10\n",
      "          Yes            3\n",
      "4         No             2\n",
      "          Yes            1\n",
      "Name: Handicap, dtype: int64\n",
      "SMS_received  No-show\n",
      "0             No         62509\n",
      "              Yes        12535\n",
      "1             No         25698\n",
      "              Yes         9784\n",
      "Name: SMS_received, dtype: int64\n",
      "Scholarship  No-show\n",
      "0            No         79924\n",
      "             Yes        19741\n",
      "1            No          8283\n",
      "             Yes         2578\n",
      "Name: Scholarship, dtype: int64\n"
     ]
    }
   ],
   "source": [
    "#Let's look at the numbers\n",
    "factors = ['Hypertension', 'Diabetes', 'Alcoholism', 'Handicap', 'SMS_received', 'Scholarship']\n",
    "\n",
    "for x in factors:\n",
    "    print(df.groupby([x, 'No-show'])[x].count())"
   ],
   "metadata": {
    "collapsed": false,
    "pycharm": {
     "name": "#%%\n"
    }
   }
  },
  {
   "cell_type": "markdown",
   "source": [
    "**Observation:**\n",
    "> Looking at the plot matrix above, there is not a clear factor that significantly contributes to no show\n",
    "> The SMS feature doesn't appear to be helping people honour their appointments either. It would be interesting if we could see SMS date\n",
    "> None of the factors are useful for predicting no-show"
   ],
   "metadata": {
    "collapsed": false,
    "pycharm": {
     "name": "#%% md\n"
    }
   }
  },
  {
   "cell_type": "markdown",
   "metadata": {
    "pycharm": {
     "name": "#%% md\n"
    }
   },
   "source": [
    "<a id='conclusions'></a>\n",
    "## Overall Conclusion\n",
    "The dataset had a few issues, including significant outliers such as negative, the sample of these issues were very low and didn't skew the results after they were removed\n",
    "Additional features were added to the dataset such as day of the week and age group categories which enabled my analysis to go deeper. The dataset contained limited information\n",
    "and features for some variables that were explored, such as the time of the appointment, type of handicap etc.\n",
    "\n",
    "The data covers a period of around 8 months, from November 2015 to June 2016. This limits our analysis to a particular point in time and there could be unexplored seasonal features\n",
    "\n",
    "The dataset had limited features that have positive correlations, meaning that making any predictions or descriptive statistics will not generate conclusive results. Since this was\n",
    "an investigation of the dataset, I couldn't supplement the data with other publicly available information about the neighbourhoods and demographics of Brazil for more meaningful analysis\n",
    "\n",
    "<u>In this analysis we looked at the following variables and the following key observations were made:</u>\n",
    "> **Age groups:** The adult and child age groups are the biggest driver of no-shows.\n",
    "> **Gender:** About two thirds of the population consists of female.\n",
    "> **Day of the week:** Tuesdays and Wednesdays are very popular appointments. No appointments on Sundays and only 9 appointments on Saturday\n",
    "> **Days between schedule and Appointment date:** Appointments that are scheduled well in advance, i.e. at least 10 days before appointment date have a lower no-show prevalence\n",
    "> **SMS received feature:** The SMS feature is only used on 32% of the total population, making it an insignificant driver of no-shows\n",
    "> **Diseases:** The disease features appear to have little influence on no-shows. Handicaps have 4 types that were not named\n"
   ]
  },
  {
   "cell_type": "markdown",
   "source": [
    "Each of the variables considered above do have some form of contributing factor to no-shows, however the distance between each variable is not big.\n",
    "This suggests that it is very difficult to predict with high accuracy, whether patients will show up given the dataset."
   ],
   "metadata": {
    "collapsed": false,
    "pycharm": {
     "name": "#%% md\n"
    }
   }
  },
  {
   "cell_type": "code",
   "execution_count": 329,
   "outputs": [],
   "source": [],
   "metadata": {
    "collapsed": false,
    "pycharm": {
     "name": "#%%\n"
    }
   }
  }
 ],
 "metadata": {
  "kernelspec": {
   "display_name": "Python 3 (ipykernel)",
   "language": "python",
   "name": "python3"
  },
  "language_info": {
   "codemirror_mode": {
    "name": "ipython",
    "version": 3
   },
   "file_extension": ".py",
   "mimetype": "text/x-python",
   "name": "python",
   "nbconvert_exporter": "python",
   "pygments_lexer": "ipython3",
   "version": "3.9.12"
  }
 },
 "nbformat": 4,
 "nbformat_minor": 4
}